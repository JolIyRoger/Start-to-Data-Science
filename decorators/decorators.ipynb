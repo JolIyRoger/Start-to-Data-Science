{
  "nbformat": 4,
  "nbformat_minor": 0,
  "metadata": {
    "colab": {
      "provenance": []
    },
    "kernelspec": {
      "name": "python3",
      "display_name": "Python 3"
    },
    "language_info": {
      "name": "python"
    }
  },
  "cells": [
    {
      "cell_type": "markdown",
      "source": [
        "# Импорт библиотек и установка констант"
      ],
      "metadata": {
        "id": "AhPO6HsH1MQP"
      }
    },
    {
      "cell_type": "code",
      "source": [
        "import requests\n",
        "import time\n",
        "import re\n",
        "\n",
        "from random import randint\n",
        "from functools import wraps"
      ],
      "metadata": {
        "id": "-PVdq-nO1qWF"
      },
      "execution_count": 2,
      "outputs": []
    },
    {
      "cell_type": "code",
      "source": [
        "BOOK_PATH = 'https://www.gutenberg.org/files/2638/2638-0.txt'"
      ],
      "metadata": {
        "id": "beNS7Ep51wUv"
      },
      "execution_count": 3,
      "outputs": []
    },
    {
      "cell_type": "markdown",
      "source": [
        "# benchmark"
      ],
      "metadata": {
        "id": "vOFcVHGE11Ho"
      }
    },
    {
      "cell_type": "code",
      "source": [
        "def benchmark(func):\n",
        "    \"\"\"\n",
        "    Декоратор, выводящий время, которое заняло выполнение декорируемой функции\n",
        "    \"\"\"\n",
        "    def wrapper(*args, **kwargs):\n",
        "        start = time.perf_counter()\n",
        "        result = func(*args, **kwargs)\n",
        "        print (f'Время выполнения функции {func.__name__}: {time.perf_counter() - start:.6f} с')\n",
        "        return result\n",
        "    return wrapper\n"
      ],
      "metadata": {
        "id": "8OgV9wL42HTm"
      },
      "execution_count": 4,
      "outputs": []
    },
    {
      "cell_type": "markdown",
      "source": [
        "# logging"
      ],
      "metadata": {
        "id": "mjDIVVEv9Deg"
      }
    },
    {
      "cell_type": "code",
      "source": [
        "def logging(func):\n",
        "    \"\"\"\n",
        "    Декоратор, который выводит параметры с которыми была вызвана функция\n",
        "    \"\"\"\n",
        "    def wrapper(*args, **kwargs):\n",
        "        print(f'Функция {func.__name__} вызвана с параметрами: {args} {kwargs}')\n",
        "        return func(*args, **kwargs)\n",
        "    return wrapper"
      ],
      "metadata": {
        "id": "1JU0B15q9F6J"
      },
      "execution_count": 5,
      "outputs": []
    },
    {
      "cell_type": "markdown",
      "source": [
        "# counter"
      ],
      "metadata": {
        "id": "OVfd3J91BDkT"
      }
    },
    {
      "cell_type": "code",
      "source": [
        "def counter(func):\n",
        "    \"\"\"\n",
        "    Декоратор, считающий и выводящий количество вызовов декорируемой функции\n",
        "    \"\"\"\n",
        "    def wrapper(*args, **kwargs):\n",
        "        wrapper.count += 1\n",
        "        print(f'Функция {func.__name__} вызвана {wrapper.count} раз(а)')\n",
        "        return func(*args, **kwargs)\n",
        "    wrapper.count = 0\n",
        "    return wrapper"
      ],
      "metadata": {
        "id": "T6KGNQ1GBE9A"
      },
      "execution_count": 6,
      "outputs": []
    },
    {
      "cell_type": "markdown",
      "source": [
        "# memo"
      ],
      "metadata": {
        "id": "3Em-WHnKDH-w"
      }
    },
    {
      "cell_type": "code",
      "source": [
        "def memo(func):\n",
        "  \"\"\"\n",
        "  Декоратор, запоминающий результаты исполнения функции func, чьи аргументы args должны быть хешируемыми\n",
        "  \"\"\"\n",
        "  cache = {}\n",
        "\n",
        "  def fmemo(*args):\n",
        "    if args not in cache:\n",
        "        cache[args] = func(*args)\n",
        "    return cache[args]\n",
        "\n",
        "  fmemo.cache = cache\n",
        "  return fmemo"
      ],
      "metadata": {
        "id": "1fI-8siWDIip"
      },
      "execution_count": 7,
      "outputs": []
    },
    {
      "cell_type": "markdown",
      "source": [
        "# Тесты"
      ],
      "metadata": {
        "id": "iS48KNYxGA9w"
      }
    },
    {
      "cell_type": "code",
      "source": [
        "@benchmark\n",
        "@logging\n",
        "@counter\n",
        "def word_count(word, url=BOOK_PATH):\n",
        "    \"\"\"\n",
        "    Функция для посчета указанного слова на html-странице\n",
        "    \"\"\"\n",
        "\n",
        "    # отправляем запрос в библиотеку Gutenberg и забираем текст\n",
        "    raw = requests.get(url).text\n",
        "\n",
        "    # заменяем в тексте все небуквенные символы на пробелы\n",
        "    processed_book = re.sub('[\\W]+' , ' ', raw).lower()\n",
        "\n",
        "    # считаем\n",
        "    cnt = len(re.findall(word.lower(), processed_book))\n",
        "\n",
        "    return f\"Cлово {word} встречается {cnt} раз\"\n",
        "\n",
        "print(word_count('whole'))"
      ],
      "metadata": {
        "colab": {
          "base_uri": "https://localhost:8080/"
        },
        "id": "eiVFGvNKGFh6",
        "outputId": "a6819a2f-64bd-4f83-e28a-12093aeb4ef5"
      },
      "execution_count": 8,
      "outputs": [
        {
          "output_type": "stream",
          "name": "stdout",
          "text": [
            "Функция wrapper вызвана с параметрами: ('whole',) {}\n",
            "Функция word_count вызвана 1 раз(а)\n",
            "Время выполнения функции wrapper: 0.956582 с\n",
            "Cлово whole встречается 176 раз\n"
          ]
        }
      ]
    },
    {
      "cell_type": "code",
      "source": [
        "def fib(n):\n",
        "    if n < 2:\n",
        "        return n\n",
        "    return fib(n-2) + fib(n-1)"
      ],
      "metadata": {
        "id": "k6W1ubHwIIPw"
      },
      "execution_count": 9,
      "outputs": []
    },
    {
      "cell_type": "code",
      "source": [
        "%%time\n",
        "# измеряем время выполнения\n",
        "print(fib(33))"
      ],
      "metadata": {
        "id": "xZsqYO0hIZla",
        "colab": {
          "base_uri": "https://localhost:8080/"
        },
        "outputId": "82097001-3b4b-4e20-f44d-c70af025e9e6"
      },
      "execution_count": 12,
      "outputs": [
        {
          "output_type": "stream",
          "name": "stdout",
          "text": [
            "3524578\n",
            "CPU times: user 1.76 s, sys: 7.91 ms, total: 1.77 s\n",
            "Wall time: 1.79 s\n"
          ]
        }
      ]
    },
    {
      "cell_type": "code",
      "source": [
        "@memo\n",
        "def fib(n):\n",
        "    if n < 2:\n",
        "        return n\n",
        "    return fib(n-2) + fib(n-1)"
      ],
      "metadata": {
        "id": "0WRXxR8QIli6"
      },
      "execution_count": 13,
      "outputs": []
    },
    {
      "cell_type": "code",
      "source": [
        "%%time\n",
        "# измеряем время выполнения\n",
        "print(fib(44))"
      ],
      "metadata": {
        "colab": {
          "base_uri": "https://localhost:8080/"
        },
        "id": "PANx3KFdIoV8",
        "outputId": "cd7cd897-c8db-4eb7-d12c-f3d0326aed61"
      },
      "execution_count": 14,
      "outputs": [
        {
          "output_type": "stream",
          "name": "stdout",
          "text": [
            "701408733\n",
            "CPU times: user 0 ns, sys: 695 µs, total: 695 µs\n",
            "Wall time: 644 µs\n"
          ]
        }
      ]
    }
  ]
}